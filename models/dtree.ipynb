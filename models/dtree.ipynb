{
 "cells": [
  {
   "cell_type": "code",
   "execution_count": 20,
   "source": [
    "import pandas as pd\n",
    "import numpy as np\n",
    "import matplotlib.pyplot as plt\n",
    "from sklearn.tree import DecisionTreeClassifier\n",
    "from sklearn.model_selection import train_test_split, cross_val_score\n",
    "from cinny import *"
   ],
   "outputs": [],
   "metadata": {}
  },
  {
   "cell_type": "code",
   "execution_count": 3,
   "source": [
    "df = pd.read_csv('../data/compas_florida.csv')"
   ],
   "outputs": [],
   "metadata": {}
  },
  {
   "cell_type": "code",
   "execution_count": 4,
   "source": [
    "df.head(2)"
   ],
   "outputs": [
    {
     "output_type": "execute_result",
     "data": {
      "text/plain": [
       "    id              name   first       last   sex         dob  age  \\\n",
       "0  1.0  miguel hernandez  miguel  hernandez  Male  18/04/1947   69   \n",
       "1  2.0  miguel hernandez  miguel  hernandez  Male  18/04/1947   69   \n",
       "\n",
       "           age_cat   race  juv_fel_count  ...  type_of_assessment  \\\n",
       "0  Greater than 45  Other              0  ...  Risk of Recidivism   \n",
       "1  Greater than 45  Other              0  ...  Risk of Recidivism   \n",
       "\n",
       "   decile_score.1  score_text  screening_date  v_type_of_assessment  \\\n",
       "0               1         Low      14/08/2013      Risk of Violence   \n",
       "1               1         Low      14/08/2013      Risk of Violence   \n",
       "\n",
       "  v_decile_score v_score_text  priors_count.1 event COMPASS_determination  \n",
       "0              1          Low               0     0                     0  \n",
       "1              1          Low               0     0                     0  \n",
       "\n",
       "[2 rows x 41 columns]"
      ],
      "text/html": [
       "<div>\n",
       "<style scoped>\n",
       "    .dataframe tbody tr th:only-of-type {\n",
       "        vertical-align: middle;\n",
       "    }\n",
       "\n",
       "    .dataframe tbody tr th {\n",
       "        vertical-align: top;\n",
       "    }\n",
       "\n",
       "    .dataframe thead th {\n",
       "        text-align: right;\n",
       "    }\n",
       "</style>\n",
       "<table border=\"1\" class=\"dataframe\">\n",
       "  <thead>\n",
       "    <tr style=\"text-align: right;\">\n",
       "      <th></th>\n",
       "      <th>id</th>\n",
       "      <th>name</th>\n",
       "      <th>first</th>\n",
       "      <th>last</th>\n",
       "      <th>sex</th>\n",
       "      <th>dob</th>\n",
       "      <th>age</th>\n",
       "      <th>age_cat</th>\n",
       "      <th>race</th>\n",
       "      <th>juv_fel_count</th>\n",
       "      <th>...</th>\n",
       "      <th>type_of_assessment</th>\n",
       "      <th>decile_score.1</th>\n",
       "      <th>score_text</th>\n",
       "      <th>screening_date</th>\n",
       "      <th>v_type_of_assessment</th>\n",
       "      <th>v_decile_score</th>\n",
       "      <th>v_score_text</th>\n",
       "      <th>priors_count.1</th>\n",
       "      <th>event</th>\n",
       "      <th>COMPASS_determination</th>\n",
       "    </tr>\n",
       "  </thead>\n",
       "  <tbody>\n",
       "    <tr>\n",
       "      <th>0</th>\n",
       "      <td>1.0</td>\n",
       "      <td>miguel hernandez</td>\n",
       "      <td>miguel</td>\n",
       "      <td>hernandez</td>\n",
       "      <td>Male</td>\n",
       "      <td>18/04/1947</td>\n",
       "      <td>69</td>\n",
       "      <td>Greater than 45</td>\n",
       "      <td>Other</td>\n",
       "      <td>0</td>\n",
       "      <td>...</td>\n",
       "      <td>Risk of Recidivism</td>\n",
       "      <td>1</td>\n",
       "      <td>Low</td>\n",
       "      <td>14/08/2013</td>\n",
       "      <td>Risk of Violence</td>\n",
       "      <td>1</td>\n",
       "      <td>Low</td>\n",
       "      <td>0</td>\n",
       "      <td>0</td>\n",
       "      <td>0</td>\n",
       "    </tr>\n",
       "    <tr>\n",
       "      <th>1</th>\n",
       "      <td>2.0</td>\n",
       "      <td>miguel hernandez</td>\n",
       "      <td>miguel</td>\n",
       "      <td>hernandez</td>\n",
       "      <td>Male</td>\n",
       "      <td>18/04/1947</td>\n",
       "      <td>69</td>\n",
       "      <td>Greater than 45</td>\n",
       "      <td>Other</td>\n",
       "      <td>0</td>\n",
       "      <td>...</td>\n",
       "      <td>Risk of Recidivism</td>\n",
       "      <td>1</td>\n",
       "      <td>Low</td>\n",
       "      <td>14/08/2013</td>\n",
       "      <td>Risk of Violence</td>\n",
       "      <td>1</td>\n",
       "      <td>Low</td>\n",
       "      <td>0</td>\n",
       "      <td>0</td>\n",
       "      <td>0</td>\n",
       "    </tr>\n",
       "  </tbody>\n",
       "</table>\n",
       "<p>2 rows × 41 columns</p>\n",
       "</div>"
      ]
     },
     "metadata": {},
     "execution_count": 4
    }
   ],
   "metadata": {
    "collapsed": true
   }
  },
  {
   "cell_type": "code",
   "execution_count": 5,
   "source": [
    "df.columns"
   ],
   "outputs": [
    {
     "output_type": "execute_result",
     "data": {
      "text/plain": [
       "Index(['id', 'name', 'first', 'last', 'sex', 'dob', 'age', 'age_cat', 'race',\n",
       "       'juv_fel_count', 'decile_score', 'juv_misd_count', 'juv_other_count',\n",
       "       'priors_count', 'days_b_screening_arrest', 'c_jail_in', 'c_jail_out',\n",
       "       'c_days_from_compas', 'c_charge_degree', 'c_charge_desc',\n",
       "       'recidivism_within_2_years', 'r_charge_degree', 'r_days_from_arrest',\n",
       "       'r_offense_date', 'r_charge_desc', 'r_jail_in', 'violent_recid',\n",
       "       'is_violent_recid', 'vr_charge_degree', 'vr_offense_date',\n",
       "       'vr_charge_desc', 'type_of_assessment', 'decile_score.1', 'score_text',\n",
       "       'screening_date', 'v_type_of_assessment', 'v_decile_score',\n",
       "       'v_score_text', 'priors_count.1', 'event', 'COMPASS_determination'],\n",
       "      dtype='object')"
      ]
     },
     "metadata": {},
     "execution_count": 5
    }
   ],
   "metadata": {}
  },
  {
   "cell_type": "code",
   "execution_count": null,
   "source": [],
   "outputs": [],
   "metadata": {}
  },
  {
   "cell_type": "code",
   "execution_count": 6,
   "source": [
    "def sex_num(x):\n",
    "    if x=='Male':\n",
    "        return 1\n",
    "    else:\n",
    "        return 0\n",
    "\n",
    "def race_num(x):\n",
    "    if (x=='African-American') | (x=='Hispanic'):\n",
    "        return 1\n",
    "    else:\n",
    "        return 0"
   ],
   "outputs": [],
   "metadata": {}
  },
  {
   "cell_type": "code",
   "execution_count": 7,
   "source": [
    "df['sex_num'] = df['sex'].apply(sex_num)\n",
    "df['race_num'] = df['race'].apply(race_num)"
   ],
   "outputs": [],
   "metadata": {}
  },
  {
   "cell_type": "code",
   "execution_count": 15,
   "source": [
    "df.dtypes"
   ],
   "outputs": [
    {
     "output_type": "execute_result",
     "data": {
      "text/plain": [
       "id                           float64\n",
       "name                          object\n",
       "first                         object\n",
       "last                          object\n",
       "sex                           object\n",
       "dob                           object\n",
       "age                            int64\n",
       "age_cat                       object\n",
       "race                          object\n",
       "juv_fel_count                  int64\n",
       "decile_score                   int64\n",
       "juv_misd_count                 int64\n",
       "juv_other_count                int64\n",
       "priors_count                   int64\n",
       "days_b_screening_arrest      float64\n",
       "c_jail_in                     object\n",
       "c_jail_out                    object\n",
       "c_days_from_compas           float64\n",
       "c_charge_degree               object\n",
       "c_charge_desc                 object\n",
       "recidivism_within_2_years      int64\n",
       "r_charge_degree               object\n",
       "r_days_from_arrest           float64\n",
       "r_offense_date                object\n",
       "r_charge_desc                 object\n",
       "r_jail_in                     object\n",
       "violent_recid                float64\n",
       "is_violent_recid               int64\n",
       "vr_charge_degree              object\n",
       "vr_offense_date               object\n",
       "vr_charge_desc                object\n",
       "type_of_assessment            object\n",
       "decile_score.1                 int64\n",
       "score_text                    object\n",
       "screening_date                object\n",
       "v_type_of_assessment          object\n",
       "v_decile_score                 int64\n",
       "v_score_text                  object\n",
       "priors_count.1                 int64\n",
       "event                          int64\n",
       "COMPASS_determination          int64\n",
       "sex_num                        int64\n",
       "race_num                       int64\n",
       "dtype: object"
      ]
     },
     "metadata": {},
     "execution_count": 15
    }
   ],
   "metadata": {
    "collapsed": true
   }
  },
  {
   "cell_type": "code",
   "execution_count": null,
   "source": [],
   "outputs": [],
   "metadata": {}
  },
  {
   "cell_type": "code",
   "execution_count": 16,
   "source": [
    "X = df[['sex_num', 'age', 'race_num', 'priors_count', 'juv_fel_count', 'juv_misd_count', 'juv_other_count']]\n",
    "y = df['recidivism_within_2_years']"
   ],
   "outputs": [],
   "metadata": {}
  },
  {
   "cell_type": "code",
   "execution_count": 21,
   "source": [
    "X_train, X_test, y_train, y_test = train_test_split(X, y, test_size=0.3, random_state=42)"
   ],
   "outputs": [],
   "metadata": {}
  },
  {
   "cell_type": "code",
   "execution_count": null,
   "source": [],
   "outputs": [],
   "metadata": {}
  },
  {
   "cell_type": "code",
   "execution_count": 10,
   "source": [
    "clf = DecisionTreeClassifier(random_state=0)"
   ],
   "outputs": [],
   "metadata": {}
  },
  {
   "cell_type": "code",
   "execution_count": 23,
   "source": [
    "clf.fit(X_train, y_train)"
   ],
   "outputs": [
    {
     "output_type": "execute_result",
     "data": {
      "text/plain": [
       "DecisionTreeClassifier(random_state=0)"
      ]
     },
     "metadata": {},
     "execution_count": 23
    }
   ],
   "metadata": {}
  },
  {
   "cell_type": "code",
   "execution_count": 25,
   "source": [
    "y_pred = clf.predict(X_test)"
   ],
   "outputs": [],
   "metadata": {}
  },
  {
   "cell_type": "code",
   "execution_count": 26,
   "source": [
    "clf.score(X_test, y_test) #accuracy"
   ],
   "outputs": [
    {
     "output_type": "execute_result",
     "data": {
      "text/plain": [
       "0.7128146453089245"
      ]
     },
     "metadata": {},
     "execution_count": 26
    }
   ],
   "metadata": {}
  },
  {
   "cell_type": "code",
   "execution_count": 28,
   "source": [
    "# cross_val_score(clf, X, y, cv=3)"
   ],
   "outputs": [
    {
     "output_type": "execute_result",
     "data": {
      "text/plain": [
       "array([0.57885704, 0.58393409, 0.6095091 ])"
      ]
     },
     "metadata": {},
     "execution_count": 28
    }
   ],
   "metadata": {}
  },
  {
   "cell_type": "code",
   "execution_count": null,
   "source": [],
   "outputs": [],
   "metadata": {}
  },
  {
   "cell_type": "code",
   "execution_count": 31,
   "source": [
    "X_test['logit_v1'] = y_pred"
   ],
   "outputs": [
    {
     "output_type": "stream",
     "name": "stderr",
     "text": [
      "<ipython-input-31-55901aea622f>:1: SettingWithCopyWarning: \n",
      "A value is trying to be set on a copy of a slice from a DataFrame.\n",
      "Try using .loc[row_indexer,col_indexer] = value instead\n",
      "\n",
      "See the caveats in the documentation: https://pandas.pydata.org/pandas-docs/stable/user_guide/indexing.html#returning-a-view-versus-a-copy\n",
      "  X_test['logit_v1'] = y_pred\n"
     ]
    }
   ],
   "metadata": {}
  },
  {
   "cell_type": "code",
   "execution_count": 32,
   "source": [
    "test_df = pd.merge(X_test, y_test, left_index=True, right_index=True)"
   ],
   "outputs": [],
   "metadata": {}
  },
  {
   "cell_type": "code",
   "execution_count": null,
   "source": [],
   "outputs": [],
   "metadata": {}
  },
  {
   "cell_type": "code",
   "execution_count": null,
   "source": [],
   "outputs": [],
   "metadata": {}
  },
  {
   "cell_type": "code",
   "execution_count": null,
   "source": [],
   "outputs": [],
   "metadata": {}
  },
  {
   "cell_type": "code",
   "execution_count": null,
   "source": [],
   "outputs": [],
   "metadata": {}
  }
 ],
 "metadata": {
  "kernelspec": {
   "display_name": "Python 3",
   "language": "python",
   "name": "python3"
  },
  "language_info": {
   "codemirror_mode": {
    "name": "ipython",
    "version": 3
   },
   "file_extension": ".py",
   "mimetype": "text/x-python",
   "name": "python",
   "nbconvert_exporter": "python",
   "pygments_lexer": "ipython3",
   "version": "3.8.5"
  }
 },
 "nbformat": 4,
 "nbformat_minor": 4
}