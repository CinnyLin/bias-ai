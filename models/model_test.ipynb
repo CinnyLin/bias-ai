{
 "metadata": {
  "language_info": {
   "codemirror_mode": {
    "name": "ipython",
    "version": 3
   },
   "file_extension": ".py",
   "mimetype": "text/x-python",
   "name": "python",
   "nbconvert_exporter": "python",
   "pygments_lexer": "ipython3",
   "version": "3.7.6"
  },
  "orig_nbformat": 2,
  "kernelspec": {
   "name": "python3",
   "display_name": "Python 3.7.6 64-bit ('base': conda)",
   "metadata": {
    "interpreter": {
     "hash": "dca0ade3e726a953b501b15e8e990130d2b7799f14cfd9f4271676035ebe5511"
    }
   }
  }
 },
 "nbformat": 4,
 "nbformat_minor": 2,
 "cells": [
  {
   "cell_type": "code",
   "execution_count": 1,
   "metadata": {},
   "outputs": [],
   "source": [
    "import numpy as np\n",
    "import pandas as pd\n",
    "from sklearn.ensemble import RandomForestClassifier  \n",
    "from sklearn.model_selection import GridSearchCV"
   ]
  },
  {
   "cell_type": "code",
   "execution_count": 5,
   "metadata": {},
   "outputs": [
    {
     "output_type": "execute_result",
     "data": {
      "text/plain": [
       "GridSearchCV(cv=5, error_score=nan,\n",
       "             estimator=RandomForestClassifier(bootstrap=True, ccp_alpha=0.0,\n",
       "                                              class_weight=None,\n",
       "                                              criterion='gini', max_depth=8,\n",
       "                                              max_features='sqrt',\n",
       "                                              max_leaf_nodes=None,\n",
       "                                              max_samples=None,\n",
       "                                              min_impurity_decrease=0.0,\n",
       "                                              min_impurity_split=None,\n",
       "                                              min_samples_leaf=20,\n",
       "                                              min_samples_split=100,\n",
       "                                              min_weight_fraction_leaf=0.0,\n",
       "                                              n_estimators=100, n_jobs=None,\n",
       "                                              oob_score=False, random_state=10,\n",
       "                                              verbose=0, warm_start=False),\n",
       "             iid='deprecated', n_jobs=None,\n",
       "             param_grid={'n_estimators': range(10, 71, 10)},\n",
       "             pre_dispatch='2*n_jobs', refit=True, return_train_score=False,\n",
       "             scoring='accuracy', verbose=0)"
      ]
     },
     "metadata": {},
     "execution_count": 5
    }
   ],
   "source": [
    "df = pd.read_csv('../data/compas_florida.csv')\n",
    "X = df[['sex_num', 'age', 'race_num', 'priors_count', 'juv_fel_count', 'juv_misd_count', 'juv_other_count']]\n",
    "y = df['recidivism_within_2_years']\n",
    "param_test1= {'n_estimators':range(10,71,10), }  \n",
    "gsearch1= GridSearchCV(estimator = RandomForestClassifier(min_samples_split=100,  \n",
    "                                 min_samples_leaf=20,max_depth=8,max_features='sqrt' ,random_state=10),param_grid =param_test1, scoring='accuracy',cv=5)  \n",
    "gsearch1.fit(X,y) "
   ]
  },
  {
   "cell_type": "code",
   "execution_count": null,
   "metadata": {},
   "outputs": [],
   "source": [
    "from sklearn.model_selection import RandomizedSearchCV\n",
    "# Number of trees in random forest\n",
    "n_estimators = [int(x) for x in np.linspace(start = 200, stop = 2000, num = 10)]\n",
    "# Number of features to consider at every split\n",
    "max_features = ['auto', 'sqrt']\n",
    "# Maximum number of levels in tree\n",
    "max_depth = [int(x) for x in np.linspace(10, 110, num = 11)]\n",
    "max_depth.append(None)\n",
    "# Minimum number of samples required to split a node\n",
    "min_samples_split = [2, 5, 10]\n",
    "# Minimum number of samples required at each leaf node\n",
    "min_samples_leaf = [1, 2, 4]\n",
    "# Method of selecting samples for training each tree\n",
    "bootstrap = [True, False]\n",
    "# Create the random grid\n",
    "random_grid = {'n_estimators': n_estimators,\n",
    "               'max_features': max_features,\n",
    "               'max_depth': max_depth,\n",
    "               'min_samples_split': min_samples_split,\n",
    "               'min_samples_leaf': min_samples_leaf,\n",
    "               'bootstrap': bootstrap}\n",
    "# Use the random grid to search for best hyperparameters\n",
    "# First create the base model to tune\n",
    "rf = RandomForestClassifier()\n",
    "# Random search of parameters, using 3 fold cross validation, \n",
    "# search across 100 different combinations, and use all available cores\n",
    "rf_random = RandomizedSearchCV(estimator = rf, param_distributions = random_grid, n_iter = 100, cv = 3, verbose=2, random_state=42, scoring='accuracy', n_jobs = -1)\n",
    "# Fit the random search model\n",
    "rf_random.fit(X, y)"
   ]
  },
  {
   "cell_type": "code",
   "execution_count": 6,
   "metadata": {},
   "outputs": [
    {
     "output_type": "execute_result",
     "data": {
      "text/plain": [
       "{'n_estimators': 60}"
      ]
     },
     "metadata": {},
     "execution_count": 6
    }
   ],
   "source": [
    "gsearch1.best_params_"
   ]
  },
  {
   "cell_type": "code",
   "execution_count": 7,
   "metadata": {},
   "outputs": [
    {
     "output_type": "execute_result",
     "data": {
      "text/plain": [
       "{'mean_fit_time': array([0.04168763, 0.08014522, 0.11071758, 0.15017743, 0.18434534,\n",
       "        0.22069368, 0.25833273]),\n",
       " 'std_fit_time': array([0.00426196, 0.01044042, 0.00413457, 0.0085409 , 0.00260231,\n",
       "        0.00230613, 0.00195607]),\n",
       " 'mean_score_time': array([0.00566921, 0.00774999, 0.01003428, 0.01284895, 0.01565418,\n",
       "        0.01914167, 0.0217906 ]),\n",
       " 'std_score_time': array([0.00278739, 0.00117448, 0.00041267, 0.0002413 , 0.00012956,\n",
       "        0.00035466, 0.00050995]),\n",
       " 'param_n_estimators': masked_array(data=[10, 20, 30, 40, 50, 60, 70],\n",
       "              mask=[False, False, False, False, False, False, False],\n",
       "        fill_value='?',\n",
       "             dtype=object),\n",
       " 'params': [{'n_estimators': 10},\n",
       "  {'n_estimators': 20},\n",
       "  {'n_estimators': 30},\n",
       "  {'n_estimators': 40},\n",
       "  {'n_estimators': 50},\n",
       "  {'n_estimators': 60},\n",
       "  {'n_estimators': 70}],\n",
       " 'split0_test_score': array([0.6541762 , 0.65589245, 0.65703661, 0.65703661, 0.65789474,\n",
       "        0.6624714 , 0.65875286]),\n",
       " 'split1_test_score': array([0.65045767, 0.65217391, 0.65102975, 0.65131579, 0.65074371,\n",
       "        0.65331808, 0.65560641]),\n",
       " 'split2_test_score': array([0.63043478, 0.6201373 , 0.62643021, 0.62700229, 0.63129291,\n",
       "        0.63072082, 0.62814645]),\n",
       " 'split3_test_score': array([0.66762014, 0.66819222, 0.66647597, 0.67334096, 0.66762014,\n",
       "        0.66847826, 0.66905034]),\n",
       " 'split4_test_score': array([0.65350501, 0.64663805, 0.64892704, 0.64949928, 0.65150215,\n",
       "        0.65264664, 0.64949928]),\n",
       " 'mean_test_score': array([0.65123876, 0.64860679, 0.64997992, 0.65163899, 0.65181073,\n",
       "        0.65352704, 0.65221107]),\n",
       " 'std_test_score': array([0.01196269, 0.01589831, 0.01325682, 0.01491147, 0.01190939,\n",
       "        0.01284121, 0.01359665]),\n",
       " 'rank_test_score': array([5, 7, 6, 4, 3, 1, 2], dtype=int32)}"
      ]
     },
     "metadata": {},
     "execution_count": 7
    }
   ],
   "source": [
    "gsearch1.cv_results_"
   ]
  },
  {
   "cell_type": "code",
   "execution_count": 8,
   "metadata": {},
   "outputs": [
    {
     "output_type": "execute_result",
     "data": {
      "text/plain": [
       "   mean_fit_time  std_fit_time  mean_score_time  std_score_time  \\\n",
       "0       0.041688      0.004262         0.005669        0.002787   \n",
       "1       0.080145      0.010440         0.007750        0.001174   \n",
       "2       0.110718      0.004135         0.010034        0.000413   \n",
       "3       0.150177      0.008541         0.012849        0.000241   \n",
       "4       0.184345      0.002602         0.015654        0.000130   \n",
       "5       0.220694      0.002306         0.019142        0.000355   \n",
       "6       0.258333      0.001956         0.021791        0.000510   \n",
       "\n",
       "  param_n_estimators                params  split0_test_score  \\\n",
       "0                 10  {'n_estimators': 10}           0.654176   \n",
       "1                 20  {'n_estimators': 20}           0.655892   \n",
       "2                 30  {'n_estimators': 30}           0.657037   \n",
       "3                 40  {'n_estimators': 40}           0.657037   \n",
       "4                 50  {'n_estimators': 50}           0.657895   \n",
       "5                 60  {'n_estimators': 60}           0.662471   \n",
       "6                 70  {'n_estimators': 70}           0.658753   \n",
       "\n",
       "   split1_test_score  split2_test_score  split3_test_score  split4_test_score  \\\n",
       "0           0.650458           0.630435           0.667620           0.653505   \n",
       "1           0.652174           0.620137           0.668192           0.646638   \n",
       "2           0.651030           0.626430           0.666476           0.648927   \n",
       "3           0.651316           0.627002           0.673341           0.649499   \n",
       "4           0.650744           0.631293           0.667620           0.651502   \n",
       "5           0.653318           0.630721           0.668478           0.652647   \n",
       "6           0.655606           0.628146           0.669050           0.649499   \n",
       "\n",
       "   mean_test_score  std_test_score  rank_test_score  \n",
       "0         0.651239        0.011963                5  \n",
       "1         0.648607        0.015898                7  \n",
       "2         0.649980        0.013257                6  \n",
       "3         0.651639        0.014911                4  \n",
       "4         0.651811        0.011909                3  \n",
       "5         0.653527        0.012841                1  \n",
       "6         0.652211        0.013597                2  "
      ],
      "text/html": "<div>\n<style scoped>\n    .dataframe tbody tr th:only-of-type {\n        vertical-align: middle;\n    }\n\n    .dataframe tbody tr th {\n        vertical-align: top;\n    }\n\n    .dataframe thead th {\n        text-align: right;\n    }\n</style>\n<table border=\"1\" class=\"dataframe\">\n  <thead>\n    <tr style=\"text-align: right;\">\n      <th></th>\n      <th>mean_fit_time</th>\n      <th>std_fit_time</th>\n      <th>mean_score_time</th>\n      <th>std_score_time</th>\n      <th>param_n_estimators</th>\n      <th>params</th>\n      <th>split0_test_score</th>\n      <th>split1_test_score</th>\n      <th>split2_test_score</th>\n      <th>split3_test_score</th>\n      <th>split4_test_score</th>\n      <th>mean_test_score</th>\n      <th>std_test_score</th>\n      <th>rank_test_score</th>\n    </tr>\n  </thead>\n  <tbody>\n    <tr>\n      <th>0</th>\n      <td>0.041688</td>\n      <td>0.004262</td>\n      <td>0.005669</td>\n      <td>0.002787</td>\n      <td>10</td>\n      <td>{'n_estimators': 10}</td>\n      <td>0.654176</td>\n      <td>0.650458</td>\n      <td>0.630435</td>\n      <td>0.667620</td>\n      <td>0.653505</td>\n      <td>0.651239</td>\n      <td>0.011963</td>\n      <td>5</td>\n    </tr>\n    <tr>\n      <th>1</th>\n      <td>0.080145</td>\n      <td>0.010440</td>\n      <td>0.007750</td>\n      <td>0.001174</td>\n      <td>20</td>\n      <td>{'n_estimators': 20}</td>\n      <td>0.655892</td>\n      <td>0.652174</td>\n      <td>0.620137</td>\n      <td>0.668192</td>\n      <td>0.646638</td>\n      <td>0.648607</td>\n      <td>0.015898</td>\n      <td>7</td>\n    </tr>\n    <tr>\n      <th>2</th>\n      <td>0.110718</td>\n      <td>0.004135</td>\n      <td>0.010034</td>\n      <td>0.000413</td>\n      <td>30</td>\n      <td>{'n_estimators': 30}</td>\n      <td>0.657037</td>\n      <td>0.651030</td>\n      <td>0.626430</td>\n      <td>0.666476</td>\n      <td>0.648927</td>\n      <td>0.649980</td>\n      <td>0.013257</td>\n      <td>6</td>\n    </tr>\n    <tr>\n      <th>3</th>\n      <td>0.150177</td>\n      <td>0.008541</td>\n      <td>0.012849</td>\n      <td>0.000241</td>\n      <td>40</td>\n      <td>{'n_estimators': 40}</td>\n      <td>0.657037</td>\n      <td>0.651316</td>\n      <td>0.627002</td>\n      <td>0.673341</td>\n      <td>0.649499</td>\n      <td>0.651639</td>\n      <td>0.014911</td>\n      <td>4</td>\n    </tr>\n    <tr>\n      <th>4</th>\n      <td>0.184345</td>\n      <td>0.002602</td>\n      <td>0.015654</td>\n      <td>0.000130</td>\n      <td>50</td>\n      <td>{'n_estimators': 50}</td>\n      <td>0.657895</td>\n      <td>0.650744</td>\n      <td>0.631293</td>\n      <td>0.667620</td>\n      <td>0.651502</td>\n      <td>0.651811</td>\n      <td>0.011909</td>\n      <td>3</td>\n    </tr>\n    <tr>\n      <th>5</th>\n      <td>0.220694</td>\n      <td>0.002306</td>\n      <td>0.019142</td>\n      <td>0.000355</td>\n      <td>60</td>\n      <td>{'n_estimators': 60}</td>\n      <td>0.662471</td>\n      <td>0.653318</td>\n      <td>0.630721</td>\n      <td>0.668478</td>\n      <td>0.652647</td>\n      <td>0.653527</td>\n      <td>0.012841</td>\n      <td>1</td>\n    </tr>\n    <tr>\n      <th>6</th>\n      <td>0.258333</td>\n      <td>0.001956</td>\n      <td>0.021791</td>\n      <td>0.000510</td>\n      <td>70</td>\n      <td>{'n_estimators': 70}</td>\n      <td>0.658753</td>\n      <td>0.655606</td>\n      <td>0.628146</td>\n      <td>0.669050</td>\n      <td>0.649499</td>\n      <td>0.652211</td>\n      <td>0.013597</td>\n      <td>2</td>\n    </tr>\n  </tbody>\n</table>\n</div>"
     },
     "metadata": {},
     "execution_count": 8
    }
   ],
   "source": [
    "df = pd.DataFrame(gsearch1.cv_results_)\n",
    "df"
   ]
  },
  {
   "cell_type": "code",
   "execution_count": 9,
   "metadata": {},
   "outputs": [],
   "source": [
    "pred = gsearch1.predict(X)"
   ]
  },
  {
   "cell_type": "code",
   "execution_count": 10,
   "metadata": {},
   "outputs": [],
   "source": [
    "df = pd.DataFrame(pred, y)"
   ]
  },
  {
   "cell_type": "code",
   "execution_count": 11,
   "metadata": {},
   "outputs": [
    {
     "output_type": "stream",
     "name": "stdout",
     "text": [
      "                           0\nrecidivism_within_2_years   \n0                          0\n0                          0\n1                          0\n1                          1\n1                          1\n...                       ..\n0                          1\n0                          0\n0                          0\n1                          1\n1                          1\n\n[17479 rows x 1 columns]\n"
     ]
    }
   ],
   "source": [
    "print(df)"
   ]
  },
  {
   "cell_type": "code",
   "execution_count": null,
   "metadata": {},
   "outputs": [],
   "source": []
  }
 ]
}