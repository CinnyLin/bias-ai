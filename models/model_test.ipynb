{
 "metadata": {
  "language_info": {
   "codemirror_mode": {
    "name": "ipython",
    "version": 3
   },
   "file_extension": ".py",
   "mimetype": "text/x-python",
   "name": "python",
   "nbconvert_exporter": "python",
   "pygments_lexer": "ipython3",
   "version": "3.7.6"
  },
  "orig_nbformat": 2,
  "kernelspec": {
   "name": "python3",
   "display_name": "Python 3.7.6 64-bit ('base': conda)",
   "metadata": {
    "interpreter": {
     "hash": "dca0ade3e726a953b501b15e8e990130d2b7799f14cfd9f4271676035ebe5511"
    }
   }
  }
 },
 "nbformat": 4,
 "nbformat_minor": 2,
 "cells": [
  {
   "cell_type": "code",
   "execution_count": 9,
   "metadata": {},
   "outputs": [],
   "source": [
    "import numpy as np\n",
    "import pandas as pd\n",
    "from sklearn.ensemble import RandomForestClassifier  \n",
    "from sklearn.model_selection import GridSearchCV"
   ]
  },
  {
   "cell_type": "code",
   "execution_count": 13,
   "metadata": {},
   "outputs": [
    {
     "output_type": "execute_result",
     "data": {
      "text/plain": [
       "GridSearchCV(cv=5, error_score=nan,\n",
       "             estimator=RandomForestClassifier(bootstrap=True, ccp_alpha=0.0,\n",
       "                                              class_weight=None,\n",
       "                                              criterion='gini', max_depth=8,\n",
       "                                              max_features='sqrt',\n",
       "                                              max_leaf_nodes=None,\n",
       "                                              max_samples=None,\n",
       "                                              min_impurity_decrease=0.0,\n",
       "                                              min_impurity_split=None,\n",
       "                                              min_samples_leaf=20,\n",
       "                                              min_samples_split=100,\n",
       "                                              min_weight_fraction_leaf=0.0,\n",
       "                                              n_estimators=100, n_jobs=None,\n",
       "                                              oob_score=False, random_state=10,\n",
       "                                              verbose=0, warm_start=False),\n",
       "             iid='deprecated', n_jobs=None,\n",
       "             param_grid={'n_estimators': range(10, 71, 10)},\n",
       "             pre_dispatch='2*n_jobs', refit=True, return_train_score=False,\n",
       "             scoring='roc_auc', verbose=0)"
      ]
     },
     "metadata": {},
     "execution_count": 13
    }
   ],
   "source": [
    "df = pd.read_csv('../data/compas_florida.csv')\n",
    "X = df[['sex_num', 'age', 'race_num', 'priors_count', 'juv_fel_count', 'juv_misd_count', 'juv_other_count']]\n",
    "y = df['recidivism_within_2_years']\n",
    "param_test1= {'n_estimators':range(10,71,10)}  \n",
    "gsearch1= GridSearchCV(estimator = RandomForestClassifier(min_samples_split=100,  \n",
    "                                 min_samples_leaf=20,max_depth=8,max_features='sqrt' ,random_state=10),param_grid =param_test1, scoring='roc_auc',cv=5)  \n",
    "gsearch1.fit(X,y) "
   ]
  },
  {
   "cell_type": "code",
   "execution_count": 14,
   "metadata": {},
   "outputs": [
    {
     "output_type": "execute_result",
     "data": {
      "text/plain": [
       "RandomForestClassifier(bootstrap=True, ccp_alpha=0.0, class_weight=None,\n",
       "                       criterion='gini', max_depth=8, max_features='sqrt',\n",
       "                       max_leaf_nodes=None, max_samples=None,\n",
       "                       min_impurity_decrease=0.0, min_impurity_split=None,\n",
       "                       min_samples_leaf=20, min_samples_split=100,\n",
       "                       min_weight_fraction_leaf=0.0, n_estimators=70,\n",
       "                       n_jobs=None, oob_score=False, random_state=10, verbose=0,\n",
       "                       warm_start=False)"
      ]
     },
     "metadata": {},
     "execution_count": 14
    }
   ],
   "source": [
    "gsearch1.best_estimator_"
   ]
  },
  {
   "cell_type": "code",
   "execution_count": 15,
   "metadata": {},
   "outputs": [
    {
     "output_type": "execute_result",
     "data": {
      "text/plain": [
       "{'mean_fit_time': array([0.04767203, 0.09643421, 0.13504391, 0.17915969, 0.21879315,\n",
       "        0.29759889, 0.28955169]),\n",
       " 'std_fit_time': array([0.00422066, 0.01006093, 0.02033925, 0.02154613, 0.0356179 ,\n",
       "        0.03401042, 0.02575971]),\n",
       " 'mean_score_time': array([0.00700722, 0.01205254, 0.01316667, 0.01666322, 0.01981444,\n",
       "        0.02488608, 0.02581816]),\n",
       " 'std_score_time': array([0.00127956, 0.00126832, 0.00146711, 0.00253493, 0.00311342,\n",
       "        0.00259305, 0.00211134]),\n",
       " 'param_n_estimators': masked_array(data=[10, 20, 30, 40, 50, 60, 70],\n",
       "              mask=[False, False, False, False, False, False, False],\n",
       "        fill_value='?',\n",
       "             dtype=object),\n",
       " 'params': [{'n_estimators': 10},\n",
       "  {'n_estimators': 20},\n",
       "  {'n_estimators': 30},\n",
       "  {'n_estimators': 40},\n",
       "  {'n_estimators': 50},\n",
       "  {'n_estimators': 60},\n",
       "  {'n_estimators': 70}],\n",
       " 'split0_test_score': array([0.71671482, 0.71945854, 0.72098584, 0.72109465, 0.72024399,\n",
       "        0.72126196, 0.72133735]),\n",
       " 'split1_test_score': array([0.69671825, 0.69962552, 0.69952851, 0.69817754, 0.69884532,\n",
       "        0.69917503, 0.69967894]),\n",
       " 'split2_test_score': array([0.66903146, 0.66964877, 0.67104922, 0.67191841, 0.6717329 ,\n",
       "        0.67109019, 0.67123735]),\n",
       " 'split3_test_score': array([0.72789226, 0.72794142, 0.72900413, 0.72990658, 0.7298684 ,\n",
       "        0.7299936 , 0.73009241]),\n",
       " 'split4_test_score': array([0.70325247, 0.70343562, 0.70425314, 0.70370976, 0.7045222 ,\n",
       "        0.70597524, 0.70604099]),\n",
       " 'mean_test_score': array([0.70272185, 0.70402197, 0.70496417, 0.70496139, 0.70504256,\n",
       "        0.70549921, 0.70567741]),\n",
       " 'std_test_score': array([0.0200036 , 0.020058  , 0.02007431, 0.02010955, 0.01997807,\n",
       "        0.02035997, 0.0203153 ]),\n",
       " 'rank_test_score': array([7, 6, 4, 5, 3, 2, 1], dtype=int32)}"
      ]
     },
     "metadata": {},
     "execution_count": 15
    }
   ],
   "source": [
    "gsearch1.cv_results_"
   ]
  },
  {
   "cell_type": "code",
   "execution_count": 16,
   "metadata": {},
   "outputs": [
    {
     "output_type": "execute_result",
     "data": {
      "text/plain": [
       "   mean_fit_time  std_fit_time  mean_score_time  std_score_time  \\\n",
       "0       0.047672      0.004221         0.007007        0.001280   \n",
       "1       0.096434      0.010061         0.012053        0.001268   \n",
       "2       0.135044      0.020339         0.013167        0.001467   \n",
       "3       0.179160      0.021546         0.016663        0.002535   \n",
       "4       0.218793      0.035618         0.019814        0.003113   \n",
       "5       0.297599      0.034010         0.024886        0.002593   \n",
       "6       0.289552      0.025760         0.025818        0.002111   \n",
       "\n",
       "  param_n_estimators                params  split0_test_score  \\\n",
       "0                 10  {'n_estimators': 10}           0.716715   \n",
       "1                 20  {'n_estimators': 20}           0.719459   \n",
       "2                 30  {'n_estimators': 30}           0.720986   \n",
       "3                 40  {'n_estimators': 40}           0.721095   \n",
       "4                 50  {'n_estimators': 50}           0.720244   \n",
       "5                 60  {'n_estimators': 60}           0.721262   \n",
       "6                 70  {'n_estimators': 70}           0.721337   \n",
       "\n",
       "   split1_test_score  split2_test_score  split3_test_score  split4_test_score  \\\n",
       "0           0.696718           0.669031           0.727892           0.703252   \n",
       "1           0.699626           0.669649           0.727941           0.703436   \n",
       "2           0.699529           0.671049           0.729004           0.704253   \n",
       "3           0.698178           0.671918           0.729907           0.703710   \n",
       "4           0.698845           0.671733           0.729868           0.704522   \n",
       "5           0.699175           0.671090           0.729994           0.705975   \n",
       "6           0.699679           0.671237           0.730092           0.706041   \n",
       "\n",
       "   mean_test_score  std_test_score  rank_test_score  \n",
       "0         0.702722        0.020004                7  \n",
       "1         0.704022        0.020058                6  \n",
       "2         0.704964        0.020074                4  \n",
       "3         0.704961        0.020110                5  \n",
       "4         0.705043        0.019978                3  \n",
       "5         0.705499        0.020360                2  \n",
       "6         0.705677        0.020315                1  "
      ],
      "text/html": "<div>\n<style scoped>\n    .dataframe tbody tr th:only-of-type {\n        vertical-align: middle;\n    }\n\n    .dataframe tbody tr th {\n        vertical-align: top;\n    }\n\n    .dataframe thead th {\n        text-align: right;\n    }\n</style>\n<table border=\"1\" class=\"dataframe\">\n  <thead>\n    <tr style=\"text-align: right;\">\n      <th></th>\n      <th>mean_fit_time</th>\n      <th>std_fit_time</th>\n      <th>mean_score_time</th>\n      <th>std_score_time</th>\n      <th>param_n_estimators</th>\n      <th>params</th>\n      <th>split0_test_score</th>\n      <th>split1_test_score</th>\n      <th>split2_test_score</th>\n      <th>split3_test_score</th>\n      <th>split4_test_score</th>\n      <th>mean_test_score</th>\n      <th>std_test_score</th>\n      <th>rank_test_score</th>\n    </tr>\n  </thead>\n  <tbody>\n    <tr>\n      <th>0</th>\n      <td>0.047672</td>\n      <td>0.004221</td>\n      <td>0.007007</td>\n      <td>0.001280</td>\n      <td>10</td>\n      <td>{'n_estimators': 10}</td>\n      <td>0.716715</td>\n      <td>0.696718</td>\n      <td>0.669031</td>\n      <td>0.727892</td>\n      <td>0.703252</td>\n      <td>0.702722</td>\n      <td>0.020004</td>\n      <td>7</td>\n    </tr>\n    <tr>\n      <th>1</th>\n      <td>0.096434</td>\n      <td>0.010061</td>\n      <td>0.012053</td>\n      <td>0.001268</td>\n      <td>20</td>\n      <td>{'n_estimators': 20}</td>\n      <td>0.719459</td>\n      <td>0.699626</td>\n      <td>0.669649</td>\n      <td>0.727941</td>\n      <td>0.703436</td>\n      <td>0.704022</td>\n      <td>0.020058</td>\n      <td>6</td>\n    </tr>\n    <tr>\n      <th>2</th>\n      <td>0.135044</td>\n      <td>0.020339</td>\n      <td>0.013167</td>\n      <td>0.001467</td>\n      <td>30</td>\n      <td>{'n_estimators': 30}</td>\n      <td>0.720986</td>\n      <td>0.699529</td>\n      <td>0.671049</td>\n      <td>0.729004</td>\n      <td>0.704253</td>\n      <td>0.704964</td>\n      <td>0.020074</td>\n      <td>4</td>\n    </tr>\n    <tr>\n      <th>3</th>\n      <td>0.179160</td>\n      <td>0.021546</td>\n      <td>0.016663</td>\n      <td>0.002535</td>\n      <td>40</td>\n      <td>{'n_estimators': 40}</td>\n      <td>0.721095</td>\n      <td>0.698178</td>\n      <td>0.671918</td>\n      <td>0.729907</td>\n      <td>0.703710</td>\n      <td>0.704961</td>\n      <td>0.020110</td>\n      <td>5</td>\n    </tr>\n    <tr>\n      <th>4</th>\n      <td>0.218793</td>\n      <td>0.035618</td>\n      <td>0.019814</td>\n      <td>0.003113</td>\n      <td>50</td>\n      <td>{'n_estimators': 50}</td>\n      <td>0.720244</td>\n      <td>0.698845</td>\n      <td>0.671733</td>\n      <td>0.729868</td>\n      <td>0.704522</td>\n      <td>0.705043</td>\n      <td>0.019978</td>\n      <td>3</td>\n    </tr>\n    <tr>\n      <th>5</th>\n      <td>0.297599</td>\n      <td>0.034010</td>\n      <td>0.024886</td>\n      <td>0.002593</td>\n      <td>60</td>\n      <td>{'n_estimators': 60}</td>\n      <td>0.721262</td>\n      <td>0.699175</td>\n      <td>0.671090</td>\n      <td>0.729994</td>\n      <td>0.705975</td>\n      <td>0.705499</td>\n      <td>0.020360</td>\n      <td>2</td>\n    </tr>\n    <tr>\n      <th>6</th>\n      <td>0.289552</td>\n      <td>0.025760</td>\n      <td>0.025818</td>\n      <td>0.002111</td>\n      <td>70</td>\n      <td>{'n_estimators': 70}</td>\n      <td>0.721337</td>\n      <td>0.699679</td>\n      <td>0.671237</td>\n      <td>0.730092</td>\n      <td>0.706041</td>\n      <td>0.705677</td>\n      <td>0.020315</td>\n      <td>1</td>\n    </tr>\n  </tbody>\n</table>\n</div>"
     },
     "metadata": {},
     "execution_count": 16
    }
   ],
   "source": [
    "df = pd.DataFrame(gsearch1.cv_results_)\n",
    "df"
   ]
  },
  {
   "cell_type": "code",
   "execution_count": null,
   "metadata": {},
   "outputs": [],
   "source": []
  }
 ]
}