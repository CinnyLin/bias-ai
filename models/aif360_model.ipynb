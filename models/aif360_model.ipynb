{
 "metadata": {
  "language_info": {
   "codemirror_mode": {
    "name": "ipython",
    "version": 3
   },
   "file_extension": ".py",
   "mimetype": "text/x-python",
   "name": "python",
   "nbconvert_exporter": "python",
   "pygments_lexer": "ipython3",
   "version": "3.7.6"
  },
  "orig_nbformat": 2,
  "kernelspec": {
   "name": "python3",
   "display_name": "Python 3.7.6 64-bit ('base': conda)",
   "metadata": {
    "interpreter": {
     "hash": "dca0ade3e726a953b501b15e8e990130d2b7799f14cfd9f4271676035ebe5511"
    }
   }
  }
 },
 "nbformat": 4,
 "nbformat_minor": 2,
 "cells": [
  {
   "cell_type": "code",
   "execution_count": 3,
   "metadata": {},
   "outputs": [],
   "source": [
    "# Load all necessary packages\n",
    "import sys\n",
    "sys.path.insert(1, \"../\")  \n",
    "\n",
    "import numpy as np\n",
    "np.random.seed(0)\n",
    "\n",
    "from aif360.datasets import GermanDataset\n",
    "from aif360.metrics import BinaryLabelDatasetMetric\n",
    "from aif360.algorithms.preprocessing import Reweighing\n",
    "\n",
    "from IPython.display import Markdown, display"
   ]
  },
  {
   "cell_type": "code",
   "execution_count": 3,
   "metadata": {},
   "outputs": [],
   "source": [
    "##Load dataset, specifying protected attribute, and split dataset into train and test¶"
   ]
  },
  {
   "cell_type": "code",
   "execution_count": 4,
   "metadata": {},
   "outputs": [
    {
     "output_type": "stream",
     "name": "stderr",
     "text": [
      "WARNING:root:[1.0] listed but not observed for feature race\n"
     ]
    }
   ],
   "source": [
    "df = pd.read_csv('../data/compas_florida.csv')\n",
    "dataset_orig = StandardDataset(df,label_name='recidivism_within_2_years', favorable_classes=[1], protected_attribute_names=['race'], privileged_classes = [['Caucasians']], features_to_keep=['sex_num','age','priors_count', 'juv_fel_count', 'juv_misd_count', 'juv_other_count'])\n",
    "# privileged_groups = [{'race': 1}]\n",
    "# unprivileged_groups = [{'race': 0}]\n",
    "# dataset_orig = load_preproc_data_compas(['race'])    # attribute for \"sex\" which we do not"
   ]
  },
  {
   "cell_type": "code",
   "execution_count": 5,
   "metadata": {},
   "outputs": [
    {
     "output_type": "execute_result",
     "data": {
      "text/plain": [
       "               instance weights features                                    \\\n",
       "                                         protected attribute                 \n",
       "                                     age                race juv_fel_count   \n",
       "instance names                                                               \n",
       "0                           1.0     69.0                 0.0           0.0   \n",
       "1                           1.0     69.0                 0.0           0.0   \n",
       "2                           1.0     34.0                 0.0           0.0   \n",
       "3                           1.0     24.0                 0.0           0.0   \n",
       "4                           1.0     24.0                 0.0           0.0   \n",
       "...                         ...      ...                 ...           ...   \n",
       "17474                       1.0     31.0                 0.0           0.0   \n",
       "17475                       1.0     57.0                 0.0           0.0   \n",
       "17476                       1.0     33.0                 0.0           0.0   \n",
       "17477                       1.0     23.0                 0.0           0.0   \n",
       "17478                       1.0     23.0                 0.0           0.0   \n",
       "\n",
       "                                                                   labels  \n",
       "                                                                           \n",
       "               juv_misd_count juv_other_count priors_count sex_num         \n",
       "instance names                                                             \n",
       "0                         0.0             0.0          0.0     1.0    0.0  \n",
       "1                         0.0             0.0          0.0     1.0    0.0  \n",
       "2                         0.0             0.0          0.0     1.0    1.0  \n",
       "3                         0.0             1.0          4.0     1.0    1.0  \n",
       "4                         0.0             1.0          4.0     1.0    1.0  \n",
       "...                       ...             ...          ...     ...    ...  \n",
       "17474                     0.0             0.0          5.0     0.0    0.0  \n",
       "17475                     0.0             0.0          0.0     1.0    0.0  \n",
       "17476                     0.0             0.0          3.0     0.0    0.0  \n",
       "17477                     0.0             0.0          2.0     0.0    1.0  \n",
       "17478                     0.0             0.0          2.0     0.0    1.0  \n",
       "\n",
       "[17479 rows x 9 columns]"
      ]
     },
     "metadata": {},
     "execution_count": 5
    }
   ],
   "source": [
    "dataset_orig"
   ]
  },
  {
   "cell_type": "code",
   "execution_count": 7,
   "metadata": {},
   "outputs": [],
   "source": [
    "dataset_orig_train, dataset_orig_test = dataset_orig.split([0.7], shuffle=True)\n",
    "privileged_groups = [{'race': 1}]\n",
    "unprivileged_groups = [{'race': 0}]"
   ]
  },
  {
   "cell_type": "code",
   "execution_count": 10,
   "metadata": {},
   "outputs": [
    {
     "output_type": "display_data",
     "data": {
      "text/plain": "<IPython.core.display.Markdown object>",
      "text/markdown": "#### Original training dataset"
     },
     "metadata": {}
    },
    {
     "output_type": "stream",
     "name": "stdout",
     "text": [
      "Difference in mean outcomes between unprivileged and privileged groups = nan\n"
     ]
    }
   ],
   "source": [
    "## Step 3 Compute fairness metric on original training dataset\n",
    "metric_orig_train = BinaryLabelDatasetMetric(dataset_orig_train, \n",
    "                                             unprivileged_groups=unprivileged_groups,\n",
    "                                             privileged_groups=privileged_groups)\n",
    "display(Markdown(\"#### Original training dataset\"))\n",
    "print(\"Difference in mean outcomes between unprivileged and privileged groups = %f\" % metric_orig_train.mean_difference())"
   ]
  },
  {
   "cell_type": "code",
   "execution_count": null,
   "metadata": {},
   "outputs": [],
   "source": []
  }
 ]
}